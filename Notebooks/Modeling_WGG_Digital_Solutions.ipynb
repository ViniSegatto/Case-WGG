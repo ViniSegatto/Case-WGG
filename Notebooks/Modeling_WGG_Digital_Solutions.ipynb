{
  "nbformat": 4,
  "nbformat_minor": 0,
  "metadata": {
    "colab": {
      "provenance": []
    },
    "kernelspec": {
      "name": "python3",
      "display_name": "Python 3"
    },
    "language_info": {
      "name": "python"
    }
  },
  "cells": [
    {
      "cell_type": "markdown",
      "source": [
        "# **Case WGG Digital Solutions**\n",
        "\n",
        "## **Problema de negócios**\n",
        "\n",
        "O case técnico apresentado pela WGG Digital Solutions envolve uma base de dados que contém informações críticas para a tomada de decisão em um contexto empresarial. Os dados, registrados em um arquivo Excel denominado 'Forecast Value', incluem percentuais de atingimento de metas de venda, organizados por país e distribuídos ao longo de um período de tempo específico, de fevereiro de 2022 a dezembro de 2023.\n",
        "\n",
        "Cada registro na base de dados representa o percentual de uma meta de vendas alcançada por um país em um determinado mês. Por exemplo, um registro pode indicar que a meta para a Colômbia e o Equador em fevereiro de 2022 foi de 58%.\n",
        "\n",
        "O problema de negócio a ser resolvido envolve a previsão do percentual de atingimento de metas para janeiro de 2024, com base nos dados históricos disponíveis. A capacidade de prever esse valor é importante para o planejamento estratégico, alocação de recursos e definição de metas futuras, permitindo que a empresa tome decisões proativas para otimizar suas operações e alcançar seus objetivos de vendas.\n",
        "\n",
        "Este desafio requer a aplicação de técnicas de análise de dados e modelagem preditiva para fornecer uma estimativa precisa, auxiliando a empresa a antecipar tendências de desempenho e a agir de forma eficaz no mercado.\n",
        "\n",
        "Neste Notebook, vamos explorar e comparar o desempenho de diferentes modelos preditivos, incluindo Redes Neurais Recorrentes (RNN), Árvore de Decisão (DT), Floresta Aleatória (RF) e Regressão Linear (RL). Para cada modelo, calcularemos o Root Mean Squared Error (RMSE), que nos permitirá avaliar e selecionar o modelo mais eficaz para este case."
      ],
      "metadata": {
        "id": "L6xsZLInrfrk"
      }
    },
    {
      "cell_type": "markdown",
      "source": [
        "## Instalando as Bibliotecas necessarias"
      ],
      "metadata": {
        "id": "5tEvW38A9IMJ"
      }
    },
    {
      "cell_type": "code",
      "source": [
        "pip install tensorflow"
      ],
      "metadata": {
        "id": "pU-r3nH07ng0"
      },
      "execution_count": null,
      "outputs": []
    },
    {
      "cell_type": "markdown",
      "source": [
        "## Importando as Bibliotecas"
      ],
      "metadata": {
        "id": "tPHqbJak9LU-"
      }
    },
    {
      "cell_type": "code",
      "source": [
        "# Bibliotecas para manipulação de dados\n",
        "import pandas as pd\n",
        "import numpy as np\n",
        "\n",
        "# Bibliotecas para visualização\n",
        "import matplotlib.pyplot as plt\n",
        "\n",
        "# Bibliotecas para aprendizado de máquina\n",
        "from tensorflow.keras.models import Sequential\n",
        "from tensorflow.keras.layers import SimpleRNN, Dense\n",
        "from sklearn.preprocessing import MinMaxScaler\n",
        "from sklearn.metrics import mean_squared_error\n",
        "from sklearn.model_selection import train_test_split\n",
        "from sklearn.linear_model import LinearRegression\n",
        "from sklearn.ensemble import RandomForestRegressor\n",
        "from sklearn.tree import DecisionTreeRegressor\n",
        "\n",
        "# Ignorar avisos\n",
        "import warnings\n",
        "warnings.filterwarnings(\"ignore\")"
      ],
      "metadata": {
        "id": "3AHRsXt59QJZ"
      },
      "execution_count": null,
      "outputs": []
    },
    {
      "cell_type": "markdown",
      "source": [
        "## Extraindo os Dados"
      ],
      "metadata": {
        "id": "ClE-sNkO9lFL"
      }
    },
    {
      "cell_type": "code",
      "execution_count": 3,
      "metadata": {
        "colab": {
          "base_uri": "https://localhost:8080/",
          "height": 206
        },
        "id": "kvV4FrGvV8Ee",
        "outputId": "41f3bc98-ab3d-4b1e-bc3f-aa9b48352728"
      },
      "outputs": [
        {
          "output_type": "execute_result",
          "data": {
            "text/plain": [
              "  Month/Year  Value           Country\n",
              "0 2022-02-01   0.58  Colombia/Ecuador\n",
              "1 2022-03-04   0.61  Colombia/Ecuador\n",
              "2 2022-04-04   0.65  Colombia/Ecuador\n",
              "3 2022-05-05   0.39  Colombia/Ecuador\n",
              "4 2022-06-05   0.53  Colombia/Ecuador"
            ],
            "text/html": [
              "\n",
              "  <div id=\"df-78c6bf93-e8ef-4f2f-82d9-26c0a88d1682\" class=\"colab-df-container\">\n",
              "    <div>\n",
              "<style scoped>\n",
              "    .dataframe tbody tr th:only-of-type {\n",
              "        vertical-align: middle;\n",
              "    }\n",
              "\n",
              "    .dataframe tbody tr th {\n",
              "        vertical-align: top;\n",
              "    }\n",
              "\n",
              "    .dataframe thead th {\n",
              "        text-align: right;\n",
              "    }\n",
              "</style>\n",
              "<table border=\"1\" class=\"dataframe\">\n",
              "  <thead>\n",
              "    <tr style=\"text-align: right;\">\n",
              "      <th></th>\n",
              "      <th>Month/Year</th>\n",
              "      <th>Value</th>\n",
              "      <th>Country</th>\n",
              "    </tr>\n",
              "  </thead>\n",
              "  <tbody>\n",
              "    <tr>\n",
              "      <th>0</th>\n",
              "      <td>2022-02-01</td>\n",
              "      <td>0.58</td>\n",
              "      <td>Colombia/Ecuador</td>\n",
              "    </tr>\n",
              "    <tr>\n",
              "      <th>1</th>\n",
              "      <td>2022-03-04</td>\n",
              "      <td>0.61</td>\n",
              "      <td>Colombia/Ecuador</td>\n",
              "    </tr>\n",
              "    <tr>\n",
              "      <th>2</th>\n",
              "      <td>2022-04-04</td>\n",
              "      <td>0.65</td>\n",
              "      <td>Colombia/Ecuador</td>\n",
              "    </tr>\n",
              "    <tr>\n",
              "      <th>3</th>\n",
              "      <td>2022-05-05</td>\n",
              "      <td>0.39</td>\n",
              "      <td>Colombia/Ecuador</td>\n",
              "    </tr>\n",
              "    <tr>\n",
              "      <th>4</th>\n",
              "      <td>2022-06-05</td>\n",
              "      <td>0.53</td>\n",
              "      <td>Colombia/Ecuador</td>\n",
              "    </tr>\n",
              "  </tbody>\n",
              "</table>\n",
              "</div>\n",
              "    <div class=\"colab-df-buttons\">\n",
              "\n",
              "  <div class=\"colab-df-container\">\n",
              "    <button class=\"colab-df-convert\" onclick=\"convertToInteractive('df-78c6bf93-e8ef-4f2f-82d9-26c0a88d1682')\"\n",
              "            title=\"Convert this dataframe to an interactive table.\"\n",
              "            style=\"display:none;\">\n",
              "\n",
              "  <svg xmlns=\"http://www.w3.org/2000/svg\" height=\"24px\" viewBox=\"0 -960 960 960\">\n",
              "    <path d=\"M120-120v-720h720v720H120Zm60-500h600v-160H180v160Zm220 220h160v-160H400v160Zm0 220h160v-160H400v160ZM180-400h160v-160H180v160Zm440 0h160v-160H620v160ZM180-180h160v-160H180v160Zm440 0h160v-160H620v160Z\"/>\n",
              "  </svg>\n",
              "    </button>\n",
              "\n",
              "  <style>\n",
              "    .colab-df-container {\n",
              "      display:flex;\n",
              "      gap: 12px;\n",
              "    }\n",
              "\n",
              "    .colab-df-convert {\n",
              "      background-color: #E8F0FE;\n",
              "      border: none;\n",
              "      border-radius: 50%;\n",
              "      cursor: pointer;\n",
              "      display: none;\n",
              "      fill: #1967D2;\n",
              "      height: 32px;\n",
              "      padding: 0 0 0 0;\n",
              "      width: 32px;\n",
              "    }\n",
              "\n",
              "    .colab-df-convert:hover {\n",
              "      background-color: #E2EBFA;\n",
              "      box-shadow: 0px 1px 2px rgba(60, 64, 67, 0.3), 0px 1px 3px 1px rgba(60, 64, 67, 0.15);\n",
              "      fill: #174EA6;\n",
              "    }\n",
              "\n",
              "    .colab-df-buttons div {\n",
              "      margin-bottom: 4px;\n",
              "    }\n",
              "\n",
              "    [theme=dark] .colab-df-convert {\n",
              "      background-color: #3B4455;\n",
              "      fill: #D2E3FC;\n",
              "    }\n",
              "\n",
              "    [theme=dark] .colab-df-convert:hover {\n",
              "      background-color: #434B5C;\n",
              "      box-shadow: 0px 1px 3px 1px rgba(0, 0, 0, 0.15);\n",
              "      filter: drop-shadow(0px 1px 2px rgba(0, 0, 0, 0.3));\n",
              "      fill: #FFFFFF;\n",
              "    }\n",
              "  </style>\n",
              "\n",
              "    <script>\n",
              "      const buttonEl =\n",
              "        document.querySelector('#df-78c6bf93-e8ef-4f2f-82d9-26c0a88d1682 button.colab-df-convert');\n",
              "      buttonEl.style.display =\n",
              "        google.colab.kernel.accessAllowed ? 'block' : 'none';\n",
              "\n",
              "      async function convertToInteractive(key) {\n",
              "        const element = document.querySelector('#df-78c6bf93-e8ef-4f2f-82d9-26c0a88d1682');\n",
              "        const dataTable =\n",
              "          await google.colab.kernel.invokeFunction('convertToInteractive',\n",
              "                                                    [key], {});\n",
              "        if (!dataTable) return;\n",
              "\n",
              "        const docLinkHtml = 'Like what you see? Visit the ' +\n",
              "          '<a target=\"_blank\" href=https://colab.research.google.com/notebooks/data_table.ipynb>data table notebook</a>'\n",
              "          + ' to learn more about interactive tables.';\n",
              "        element.innerHTML = '';\n",
              "        dataTable['output_type'] = 'display_data';\n",
              "        await google.colab.output.renderOutput(dataTable, element);\n",
              "        const docLink = document.createElement('div');\n",
              "        docLink.innerHTML = docLinkHtml;\n",
              "        element.appendChild(docLink);\n",
              "      }\n",
              "    </script>\n",
              "  </div>\n",
              "\n",
              "\n",
              "<div id=\"df-044ce4a3-c61a-4534-9003-843af567fae2\">\n",
              "  <button class=\"colab-df-quickchart\" onclick=\"quickchart('df-044ce4a3-c61a-4534-9003-843af567fae2')\"\n",
              "            title=\"Suggest charts\"\n",
              "            style=\"display:none;\">\n",
              "\n",
              "<svg xmlns=\"http://www.w3.org/2000/svg\" height=\"24px\"viewBox=\"0 0 24 24\"\n",
              "     width=\"24px\">\n",
              "    <g>\n",
              "        <path d=\"M19 3H5c-1.1 0-2 .9-2 2v14c0 1.1.9 2 2 2h14c1.1 0 2-.9 2-2V5c0-1.1-.9-2-2-2zM9 17H7v-7h2v7zm4 0h-2V7h2v10zm4 0h-2v-4h2v4z\"/>\n",
              "    </g>\n",
              "</svg>\n",
              "  </button>\n",
              "\n",
              "<style>\n",
              "  .colab-df-quickchart {\n",
              "      --bg-color: #E8F0FE;\n",
              "      --fill-color: #1967D2;\n",
              "      --hover-bg-color: #E2EBFA;\n",
              "      --hover-fill-color: #174EA6;\n",
              "      --disabled-fill-color: #AAA;\n",
              "      --disabled-bg-color: #DDD;\n",
              "  }\n",
              "\n",
              "  [theme=dark] .colab-df-quickchart {\n",
              "      --bg-color: #3B4455;\n",
              "      --fill-color: #D2E3FC;\n",
              "      --hover-bg-color: #434B5C;\n",
              "      --hover-fill-color: #FFFFFF;\n",
              "      --disabled-bg-color: #3B4455;\n",
              "      --disabled-fill-color: #666;\n",
              "  }\n",
              "\n",
              "  .colab-df-quickchart {\n",
              "    background-color: var(--bg-color);\n",
              "    border: none;\n",
              "    border-radius: 50%;\n",
              "    cursor: pointer;\n",
              "    display: none;\n",
              "    fill: var(--fill-color);\n",
              "    height: 32px;\n",
              "    padding: 0;\n",
              "    width: 32px;\n",
              "  }\n",
              "\n",
              "  .colab-df-quickchart:hover {\n",
              "    background-color: var(--hover-bg-color);\n",
              "    box-shadow: 0 1px 2px rgba(60, 64, 67, 0.3), 0 1px 3px 1px rgba(60, 64, 67, 0.15);\n",
              "    fill: var(--button-hover-fill-color);\n",
              "  }\n",
              "\n",
              "  .colab-df-quickchart-complete:disabled,\n",
              "  .colab-df-quickchart-complete:disabled:hover {\n",
              "    background-color: var(--disabled-bg-color);\n",
              "    fill: var(--disabled-fill-color);\n",
              "    box-shadow: none;\n",
              "  }\n",
              "\n",
              "  .colab-df-spinner {\n",
              "    border: 2px solid var(--fill-color);\n",
              "    border-color: transparent;\n",
              "    border-bottom-color: var(--fill-color);\n",
              "    animation:\n",
              "      spin 1s steps(1) infinite;\n",
              "  }\n",
              "\n",
              "  @keyframes spin {\n",
              "    0% {\n",
              "      border-color: transparent;\n",
              "      border-bottom-color: var(--fill-color);\n",
              "      border-left-color: var(--fill-color);\n",
              "    }\n",
              "    20% {\n",
              "      border-color: transparent;\n",
              "      border-left-color: var(--fill-color);\n",
              "      border-top-color: var(--fill-color);\n",
              "    }\n",
              "    30% {\n",
              "      border-color: transparent;\n",
              "      border-left-color: var(--fill-color);\n",
              "      border-top-color: var(--fill-color);\n",
              "      border-right-color: var(--fill-color);\n",
              "    }\n",
              "    40% {\n",
              "      border-color: transparent;\n",
              "      border-right-color: var(--fill-color);\n",
              "      border-top-color: var(--fill-color);\n",
              "    }\n",
              "    60% {\n",
              "      border-color: transparent;\n",
              "      border-right-color: var(--fill-color);\n",
              "    }\n",
              "    80% {\n",
              "      border-color: transparent;\n",
              "      border-right-color: var(--fill-color);\n",
              "      border-bottom-color: var(--fill-color);\n",
              "    }\n",
              "    90% {\n",
              "      border-color: transparent;\n",
              "      border-bottom-color: var(--fill-color);\n",
              "    }\n",
              "  }\n",
              "</style>\n",
              "\n",
              "  <script>\n",
              "    async function quickchart(key) {\n",
              "      const quickchartButtonEl =\n",
              "        document.querySelector('#' + key + ' button');\n",
              "      quickchartButtonEl.disabled = true;  // To prevent multiple clicks.\n",
              "      quickchartButtonEl.classList.add('colab-df-spinner');\n",
              "      try {\n",
              "        const charts = await google.colab.kernel.invokeFunction(\n",
              "            'suggestCharts', [key], {});\n",
              "      } catch (error) {\n",
              "        console.error('Error during call to suggestCharts:', error);\n",
              "      }\n",
              "      quickchartButtonEl.classList.remove('colab-df-spinner');\n",
              "      quickchartButtonEl.classList.add('colab-df-quickchart-complete');\n",
              "    }\n",
              "    (() => {\n",
              "      let quickchartButtonEl =\n",
              "        document.querySelector('#df-044ce4a3-c61a-4534-9003-843af567fae2 button');\n",
              "      quickchartButtonEl.style.display =\n",
              "        google.colab.kernel.accessAllowed ? 'block' : 'none';\n",
              "    })();\n",
              "  </script>\n",
              "</div>\n",
              "\n",
              "    </div>\n",
              "  </div>\n"
            ],
            "application/vnd.google.colaboratory.intrinsic+json": {
              "type": "dataframe",
              "variable_name": "df",
              "summary": "{\n  \"name\": \"df\",\n  \"rows\": 69,\n  \"fields\": [\n    {\n      \"column\": \"Month/Year\",\n      \"properties\": {\n        \"dtype\": \"date\",\n        \"min\": \"2022-02-01 00:00:00\",\n        \"max\": \"2023-12-08 00:00:00\",\n        \"num_unique_values\": 23,\n        \"samples\": [\n          \"2023-05-05 00:00:00\",\n          \"2022-11-07 00:00:00\",\n          \"2022-02-01 00:00:00\"\n        ],\n        \"semantic_type\": \"\",\n        \"description\": \"\"\n      }\n    },\n    {\n      \"column\": \"Value\",\n      \"properties\": {\n        \"dtype\": \"number\",\n        \"std\": 0.0985612614095385,\n        \"min\": 0.29,\n        \"max\": 0.84,\n        \"num_unique_values\": 29,\n        \"samples\": [\n          0.77,\n          0.73,\n          0.7\n        ],\n        \"semantic_type\": \"\",\n        \"description\": \"\"\n      }\n    },\n    {\n      \"column\": \"Country\",\n      \"properties\": {\n        \"dtype\": \"category\",\n        \"num_unique_values\": 3,\n        \"samples\": [\n          \"Colombia/Ecuador\",\n          \"Peru\",\n          \"Brasil\"\n        ],\n        \"semantic_type\": \"\",\n        \"description\": \"\"\n      }\n    }\n  ]\n}"
            }
          },
          "metadata": {},
          "execution_count": 3
        }
      ],
      "source": [
        "df = pd.read_excel('/content/Forecast Value (3) (1).xlsx')\n",
        "df.head()"
      ]
    },
    {
      "cell_type": "markdown",
      "source": [
        "Realizaremos a separação de um DataFrame principal,* df*, em três DataFrames menores, cada um contendo os dados específicos de um dos países permitindo tratar os dados separadamente e criar modelos espeficicos para cada pais de forma organizada."
      ],
      "metadata": {
        "id": "A7VBLaF-98P7"
      }
    },
    {
      "cell_type": "code",
      "source": [
        "# Criar DataFrames separados para cada país\n",
        "df_brasil = df[df['Country'] == 'Brasil'].reset_index(drop=True)\n",
        "df_colombia_ecuador = df[df['Country'] == 'Colombia/Ecuador'].reset_index(drop=True)\n",
        "df_peru = df[df['Country'] == 'Peru'].reset_index(drop=True)\n",
        "\n",
        "# Exibir os DataFrames criados\n",
        "print(\"DataFrame Brasil:\\n\", df_brasil.head())\n",
        "print(\"\\nDataFrame Colombia/Ecuador:\\n\", df_colombia_ecuador.head())\n",
        "print(\"\\nDataFrame Peru:\\n\", df_peru.head())"
      ],
      "metadata": {
        "colab": {
          "base_uri": "https://localhost:8080/"
        },
        "id": "ws7Awf90mkv1",
        "outputId": "f4d16ce5-40d5-4373-e301-bcfd81df53ee"
      },
      "execution_count": 4,
      "outputs": [
        {
          "output_type": "stream",
          "name": "stdout",
          "text": [
            "DataFrame Brasil:\n",
            "   Month/Year  Value Country\n",
            "0 2022-02-01   0.55  Brasil\n",
            "1 2022-03-04   0.69  Brasil\n",
            "2 2022-04-04   0.70  Brasil\n",
            "3 2022-05-05   0.70  Brasil\n",
            "4 2022-06-05   0.66  Brasil\n",
            "\n",
            "DataFrame Colombia/Ecuador:\n",
            "   Month/Year  Value           Country\n",
            "0 2022-02-01   0.58  Colombia/Ecuador\n",
            "1 2022-03-04   0.61  Colombia/Ecuador\n",
            "2 2022-04-04   0.65  Colombia/Ecuador\n",
            "3 2022-05-05   0.39  Colombia/Ecuador\n",
            "4 2022-06-05   0.53  Colombia/Ecuador\n",
            "\n",
            "DataFrame Peru:\n",
            "   Month/Year  Value Country\n",
            "0 2022-02-01   0.29    Peru\n",
            "1 2022-03-04   0.35    Peru\n",
            "2 2022-04-04   0.61    Peru\n",
            "3 2022-05-05   0.72    Peru\n",
            "4 2022-06-05   0.68    Peru\n"
          ]
        }
      ]
    },
    {
      "cell_type": "markdown",
      "source": [
        "Para ficar ainda mais organizado para a criação de diversos modelos, de diversos paises, iremos dividir cada dataset em treino e teste para que possamos analisar cada pais de forma independente."
      ],
      "metadata": {
        "id": "_UDflDEi-Zx9"
      }
    },
    {
      "cell_type": "code",
      "source": [
        "# Cópia para Redes Neurais Recorrentes (RNN), Árvore de Decisão (DT), Floresta Aleatória (RF) e  Regressão Linear (RL)\n",
        "\n",
        "# Para Brasil\n",
        "df_brasil_RNN, df_brasil_DT, df_brasil_RF, df_brasil_RL = [df_brasil.copy() for _ in range(4)]\n",
        "\n",
        "# Para Peru\n",
        "df_peru_RNN, df_peru_DT, df_peru_RF, df_peru_RL = [df_peru.copy() for _ in range(4)]\n",
        "\n",
        "# Para Colombia/Ecuador\n",
        "df_colombia_ecuador_RNN, df_colombia_ecuador_DT, df_colombia_ecuador_RF, df_colombia_ecuador_RL = [df_colombia_ecuador.copy() for _ in range(4)]\n"
      ],
      "metadata": {
        "id": "T7WRdxClss1H"
      },
      "execution_count": 5,
      "outputs": []
    },
    {
      "cell_type": "code",
      "source": [
        "def split_data(df, test_size=0.2, random_state=42):\n",
        "    return train_test_split(df, test_size=test_size, random_state=random_state, shuffle=False)\n",
        "\n",
        "# Para Brasil\n",
        "train_brasil_RNN, test_brasil_RNN = split_data(df_brasil_RNN)\n",
        "train_brasil_DT, test_brasil_DT = split_data(df_brasil_DT)\n",
        "train_brasil_RF, test_brasil_RF = split_data(df_brasil_RF)\n",
        "train_brasil_RL, test_brasil_RL = split_data(df_brasil_RL)\n",
        "\n",
        "# Para Peru\n",
        "train_peru_RNN, test_peru_RNN = split_data(df_peru_RNN)\n",
        "train_peru_DT, test_peru_DT = split_data(df_peru_DT)\n",
        "train_peru_RF, test_peru_RF = split_data(df_peru_RF)\n",
        "train_peru_RL, test_peru_RL = split_data(df_peru_RL)\n",
        "\n",
        "# Para Colombia/Ecuador\n",
        "train_colombia_ecuador_RNN, test_colombia_ecuador_RNN = split_data(df_colombia_ecuador_RNN)\n",
        "train_colombia_ecuador_DT, test_colombia_ecuador_DT = split_data(df_colombia_ecuador_DT)\n",
        "train_colombia_ecuador_RF, test_colombia_ecuador_RF = split_data(df_colombia_ecuador_RF)\n",
        "train_colombia_ecuador_RL, test_colombia_ecuador_RL = split_data(df_colombia_ecuador_RL)"
      ],
      "metadata": {
        "id": "uQLuuGDOvICq"
      },
      "execution_count": 6,
      "outputs": []
    },
    {
      "cell_type": "markdown",
      "source": [
        "## Checando os Dados\n",
        "\n",
        "Desenvolvemos esta função (*check_split*) e (*check_content*) para assegurar a correta separação dos DataFrames com os dados adequados, visando a obtenção de um modelo o mais preciso possível."
      ],
      "metadata": {
        "id": "GEhoPXmA-0rA"
      }
    },
    {
      "cell_type": "code",
      "source": [
        "def check_split(train, test, original):\n",
        "    print(f\"Tamanho original: {original.shape}\")\n",
        "    print(f\"Tamanho do treino: {train.shape}\")\n",
        "    print(f\"Tamanho do teste: {test.shape}\")\n",
        "    print(f\"Soma das partes: {train.shape[0] + test.shape[0]}\")\n",
        "\n",
        "# Brasil\n",
        "print(\"Brasil:\")\n",
        "check_split(train_brasil_RNN, test_brasil_RNN, df_brasil_RNN)\n",
        "\n",
        "# Peru\n",
        "print(\"\\nPeru:\")\n",
        "check_split(train_peru_RNN, test_peru_RNN, df_peru_RNN)\n",
        "\n",
        "# Colombia/Ecuador\n",
        "print(\"\\nColombia/Ecuador:\")\n",
        "check_split(train_colombia_ecuador_RNN, test_colombia_ecuador_RNN, df_colombia_ecuador_RNN)\n",
        "\n",
        "# Visualizando as primeiras e últimas linhas\n",
        "def check_content(train, test):\n",
        "    print(\"\\nPrimeiras linhas do treino:\")\n",
        "    print(train.head())\n",
        "    print(\"\\nÚltimas linhas do treino:\")\n",
        "    print(train.tail())\n",
        "    print(\"\\nPrimeiras linhas do teste:\")\n",
        "    print(test.head())\n",
        "    print(\"\\nÚltimas linhas do teste:\")\n",
        "    print(test.tail())\n",
        "\n",
        "print(\"\\nVisualizando o conteúdo - Brasil RNN:\")\n",
        "check_content(train_brasil_RNN, test_brasil_RNN)\n",
        "print(\"\\nVisualizando o conteúdo - Peru RNN:\")\n",
        "check_content(train_peru_RNN, test_peru_RNN)\n",
        "print(\"\\nVisualizando o conteúdo - Colombia/Ecuador RNN:\")\n",
        "check_content(train_colombia_ecuador_RNN, test_colombia_ecuador_RNN)\n"
      ],
      "metadata": {
        "colab": {
          "base_uri": "https://localhost:8080/"
        },
        "id": "adrotpq2vdHa",
        "outputId": "2380e550-70a8-4cfc-e69d-05b96323bae6"
      },
      "execution_count": 7,
      "outputs": [
        {
          "output_type": "stream",
          "name": "stdout",
          "text": [
            "Brasil:\n",
            "Tamanho original: (23, 3)\n",
            "Tamanho do treino: (18, 3)\n",
            "Tamanho do teste: (5, 3)\n",
            "Soma das partes: 23\n",
            "\n",
            "Peru:\n",
            "Tamanho original: (23, 3)\n",
            "Tamanho do treino: (18, 3)\n",
            "Tamanho do teste: (5, 3)\n",
            "Soma das partes: 23\n",
            "\n",
            "Colombia/Ecuador:\n",
            "Tamanho original: (23, 3)\n",
            "Tamanho do treino: (18, 3)\n",
            "Tamanho do teste: (5, 3)\n",
            "Soma das partes: 23\n",
            "\n",
            "Visualizando o conteúdo - Brasil RNN:\n",
            "\n",
            "Primeiras linhas do treino:\n",
            "  Month/Year  Value Country\n",
            "0 2022-02-01   0.55  Brasil\n",
            "1 2022-03-04   0.69  Brasil\n",
            "2 2022-04-04   0.70  Brasil\n",
            "3 2022-05-05   0.70  Brasil\n",
            "4 2022-06-05   0.66  Brasil\n",
            "\n",
            "Últimas linhas do treino:\n",
            "   Month/Year  Value Country\n",
            "13 2023-03-04   0.71  Brasil\n",
            "14 2023-04-04   0.67  Brasil\n",
            "15 2023-05-05   0.70  Brasil\n",
            "16 2023-06-05   0.70  Brasil\n",
            "17 2023-07-06   0.71  Brasil\n",
            "\n",
            "Primeiras linhas do teste:\n",
            "   Month/Year  Value Country\n",
            "18 2023-08-06   0.70  Brasil\n",
            "19 2023-09-06   0.73  Brasil\n",
            "20 2023-10-07   0.75  Brasil\n",
            "21 2023-11-07   0.75  Brasil\n",
            "22 2023-12-08   0.74  Brasil\n",
            "\n",
            "Últimas linhas do teste:\n",
            "   Month/Year  Value Country\n",
            "18 2023-08-06   0.70  Brasil\n",
            "19 2023-09-06   0.73  Brasil\n",
            "20 2023-10-07   0.75  Brasil\n",
            "21 2023-11-07   0.75  Brasil\n",
            "22 2023-12-08   0.74  Brasil\n",
            "\n",
            "Visualizando o conteúdo - Peru RNN:\n",
            "\n",
            "Primeiras linhas do treino:\n",
            "  Month/Year  Value Country\n",
            "0 2022-02-01   0.29    Peru\n",
            "1 2022-03-04   0.35    Peru\n",
            "2 2022-04-04   0.61    Peru\n",
            "3 2022-05-05   0.72    Peru\n",
            "4 2022-06-05   0.68    Peru\n",
            "\n",
            "Últimas linhas do treino:\n",
            "   Month/Year  Value Country\n",
            "13 2023-03-04   0.61    Peru\n",
            "14 2023-04-04   0.73    Peru\n",
            "15 2023-05-05   0.70    Peru\n",
            "16 2023-06-05   0.53    Peru\n",
            "17 2023-07-06   0.67    Peru\n",
            "\n",
            "Primeiras linhas do teste:\n",
            "   Month/Year  Value Country\n",
            "18 2023-08-06   0.74    Peru\n",
            "19 2023-09-06   0.79    Peru\n",
            "20 2023-10-07   0.74    Peru\n",
            "21 2023-11-07   0.63    Peru\n",
            "22 2023-12-08   0.84    Peru\n",
            "\n",
            "Últimas linhas do teste:\n",
            "   Month/Year  Value Country\n",
            "18 2023-08-06   0.74    Peru\n",
            "19 2023-09-06   0.79    Peru\n",
            "20 2023-10-07   0.74    Peru\n",
            "21 2023-11-07   0.63    Peru\n",
            "22 2023-12-08   0.84    Peru\n",
            "\n",
            "Visualizando o conteúdo - Colombia/Ecuador RNN:\n",
            "\n",
            "Primeiras linhas do treino:\n",
            "  Month/Year  Value           Country\n",
            "0 2022-02-01   0.58  Colombia/Ecuador\n",
            "1 2022-03-04   0.61  Colombia/Ecuador\n",
            "2 2022-04-04   0.65  Colombia/Ecuador\n",
            "3 2022-05-05   0.39  Colombia/Ecuador\n",
            "4 2022-06-05   0.53  Colombia/Ecuador\n",
            "\n",
            "Últimas linhas do treino:\n",
            "   Month/Year  Value           Country\n",
            "13 2023-03-04   0.64  Colombia/Ecuador\n",
            "14 2023-04-04   0.67  Colombia/Ecuador\n",
            "15 2023-05-05   0.70  Colombia/Ecuador\n",
            "16 2023-06-05   0.70  Colombia/Ecuador\n",
            "17 2023-07-06   0.74  Colombia/Ecuador\n",
            "\n",
            "Primeiras linhas do teste:\n",
            "   Month/Year  Value           Country\n",
            "18 2023-08-06   0.71  Colombia/Ecuador\n",
            "19 2023-09-06   0.76  Colombia/Ecuador\n",
            "20 2023-10-07   0.74  Colombia/Ecuador\n",
            "21 2023-11-07   0.71  Colombia/Ecuador\n",
            "22 2023-12-08   0.73  Colombia/Ecuador\n",
            "\n",
            "Últimas linhas do teste:\n",
            "   Month/Year  Value           Country\n",
            "18 2023-08-06   0.71  Colombia/Ecuador\n",
            "19 2023-09-06   0.76  Colombia/Ecuador\n",
            "20 2023-10-07   0.74  Colombia/Ecuador\n",
            "21 2023-11-07   0.71  Colombia/Ecuador\n",
            "22 2023-12-08   0.73  Colombia/Ecuador\n"
          ]
        }
      ]
    },
    {
      "cell_type": "markdown",
      "source": [
        "## Entendendo Root Mean Squared Error (RMSE)\n",
        "\n",
        "O Root Mean Square Error (RMSE), ou Erro Quadrático Médio da Raiz, é uma métrica amplamente utilizada para avaliar a precisão de modelos de regressão. Ele mede a diferença entre os valores previstos por um modelo e os valores reais observados. Aqui está uma explicação mais detalhada:\n",
        "\n",
        "### Definição e Cálculo\n",
        "\n",
        "* O RMSE é calculado como a raiz quadrada da média dos quadrados dos erros.\n",
        "\n",
        "### Interpretação\n",
        "\n",
        "* Valores Próximos de Zero: Indicam um bom ajuste do modelo, significando que as previsões estão muito próximas dos valores reais.\n",
        "* Valores Altos: Sugerem um mau ajuste, indicando que há uma grande discrepância entre os valores observados e preditos.\n",
        "\n",
        "### Vantagens\n",
        "\n",
        "* Facilidade de Interpretação, o RMSE é fácil de interpretar, pois está na mesma unidade dos dados observados.\n",
        "* Penalização de Erros Grandes, penaliza mais os erros grandes do que os pequenos, o que pode ser útil em contextos onde erros grandes são mais problemáticos.\n",
        "\n",
        "### Limitações\n",
        "\n",
        "* Sensível a Outliers, o RMSE pode ser influenciado por valores extremos, o que pode distorcer a avaliação do ajuste do modelo.\n",
        "* Dependência da Escala, o RMSE é dependente da escala dos dados, o que pode dificultar a comparação entre diferentes conjuntos de dados ou modelos.\n",
        "\n",
        "### Aplicações\n",
        "\n",
        "O RMSE é amplamente utilizado em diversas áreas, como:\n",
        "\n",
        "* Previsão de Séries Temporais, ao avaliar a precisão de modelos que preveem valores futuros com base em dados históricos.\n",
        "* Modelos de Regressão, para avaliar a precisão de modelos que relacionam uma variável dependente com uma ou mais variáveis independentes.\n",
        "* Machine Learning, avaliar a precisão de modelos preditivos em tarefas de regressão\n"
      ],
      "metadata": {
        "id": "HF_PMDx6AEhZ"
      }
    },
    {
      "cell_type": "markdown",
      "source": [
        "## Pré-processamento e criação e treinamento do modelo RNN."
      ],
      "metadata": {
        "id": "r4uBQyXS5xPe"
      }
    },
    {
      "cell_type": "code",
      "source": [
        "def train_and_forecast_rnn(data, target_col, n_steps=3):\n",
        "\n",
        "    # Escalar os dados\n",
        "    scaler = MinMaxScaler()\n",
        "    data_scaled = scaler.fit_transform(data[target_col].values.reshape(-1, 1))\n",
        "\n",
        "    # Dividir os dados em treino e teste\n",
        "    train_size = int(len(data_scaled) * 0.8)\n",
        "    train_scaled = data_scaled[:train_size]\n",
        "    test_scaled = data_scaled[train_size:]\n",
        "\n",
        "    # Criar listas vazias para armazenar os dados sequenciais\n",
        "    X_train, y_train = [], []\n",
        "    X_test, y_test = [], []\n",
        "\n",
        "    # Gerar sequências de treino\n",
        "    for i in range(n_steps, len(train_scaled)):\n",
        "        X_train.append(train_scaled[i-n_steps:i, 0])\n",
        "        y_train.append(train_scaled[i, 0])\n",
        "\n",
        "    # Gerar sequências de teste\n",
        "    for i in range(n_steps, len(test_scaled)):\n",
        "        X_test.append(test_scaled[i-n_steps:i, 0])\n",
        "        y_test.append(test_scaled[i, 0])\n",
        "\n",
        "    # Converter as listas em arrays NumPy e redimensionar\n",
        "    X_train, y_train = np.array(X_train), np.array(y_train)\n",
        "    X_train = X_train.reshape((X_train.shape[0], X_train.shape[1], 1))\n",
        "\n",
        "    X_test, y_test = np.array(X_test), np.array(y_test)\n",
        "    X_test = X_test.reshape((X_test.shape[0], X_test.shape[1], 1))\n",
        "\n",
        "    # Criar o modelo RNN\n",
        "    model_rnn = Sequential()\n",
        "    model_rnn.add(SimpleRNN(50, activation='relu', input_shape=(n_steps, 1)))\n",
        "    model_rnn.add(Dense(1))\n",
        "    model_rnn.compile(optimizer='adam', loss='mse')\n",
        "\n",
        "    # Treinar o modelo\n",
        "    model_rnn.fit(X_train, y_train, epochs=200, verbose=0)\n",
        "\n",
        "    # Previsão para o próximo mês (usando os últimos n_steps valores do conjunto de teste)\n",
        "    X_input = test_scaled[-n_steps:]\n",
        "    X_input = X_input.reshape((1, n_steps, 1))\n",
        "    forecast_rnn = model_rnn.predict(X_input)\n",
        "    forecast_rnn = scaler.inverse_transform(forecast_rnn)\n",
        "\n",
        "    # Calcular o RMSE\n",
        "    rmse = np.sqrt(mean_squared_error(y_test, model_rnn.predict(X_test)))\n",
        "\n",
        "    print(f'Root Mean Squared Error (RMSE) RNN : {rmse}')\n",
        "    print(f'Previsão RNN para o próximo mês: {forecast_rnn[0][0]:.4f}')\n",
        "\n",
        "    return rmse, forecast_rnn[0][0]\n",
        "\n",
        "# Exemplo de uso da função com os datasets dos países\n",
        "print(\"Brasil:\")\n",
        "rmse_brasil, forecast_brasil = train_and_forecast_rnn(df_brasil_RNN, 'Value')\n",
        "\n",
        "print(\"\\nPeru:\")\n",
        "rmse_peru, forecast_peru = train_and_forecast_rnn(df_peru_RNN, 'Value')\n",
        "\n",
        "print(\"\\nColombia/Ecuador:\")\n",
        "rmse_colombia_ecuador, forecast_colombia_ecuador = train_and_forecast_rnn(df_colombia_ecuador_RNN, 'Value')\n"
      ],
      "metadata": {
        "colab": {
          "base_uri": "https://localhost:8080/"
        },
        "id": "CAwAFYcsNv5W",
        "outputId": "a2ff0dd2-bf11-4b76-cf4e-f77f3e1abb2c"
      },
      "execution_count": 8,
      "outputs": [
        {
          "output_type": "stream",
          "name": "stdout",
          "text": [
            "Brasil:\n",
            "\u001b[1m1/1\u001b[0m \u001b[32m━━━━━━━━━━━━━━━━━━━━\u001b[0m\u001b[37m\u001b[0m \u001b[1m0s\u001b[0m 136ms/step\n",
            "\u001b[1m1/1\u001b[0m \u001b[32m━━━━━━━━━━━━━━━━━━━━\u001b[0m\u001b[37m\u001b[0m \u001b[1m0s\u001b[0m 142ms/step\n",
            "Root Mean Squared Error (RMSE): 0.22650091298619313\n",
            "Previsão para o próximo mês: 0.6662\n",
            "\n",
            "Peru:\n",
            "\u001b[1m1/1\u001b[0m \u001b[32m━━━━━━━━━━━━━━━━━━━━\u001b[0m\u001b[37m\u001b[0m \u001b[1m0s\u001b[0m 132ms/step\n",
            "\u001b[1m1/1\u001b[0m \u001b[32m━━━━━━━━━━━━━━━━━━━━\u001b[0m\u001b[37m\u001b[0m \u001b[1m0s\u001b[0m 145ms/step\n",
            "Root Mean Squared Error (RMSE): 0.1914679793324452\n",
            "Previsão para o próximo mês: 0.7436\n",
            "\n",
            "Colombia/Ecuador:\n"
          ]
        },
        {
          "output_type": "stream",
          "name": "stderr",
          "text": [
            "WARNING:tensorflow:5 out of the last 5 calls to <function TensorFlowTrainer.make_predict_function.<locals>.one_step_on_data_distributed at 0x79ff4dfca170> triggered tf.function retracing. Tracing is expensive and the excessive number of tracings could be due to (1) creating @tf.function repeatedly in a loop, (2) passing tensors with different shapes, (3) passing Python objects instead of tensors. For (1), please define your @tf.function outside of the loop. For (2), @tf.function has reduce_retracing=True option that can avoid unnecessary retracing. For (3), please refer to https://www.tensorflow.org/guide/function#controlling_retracing and https://www.tensorflow.org/api_docs/python/tf/function for  more details.\n"
          ]
        },
        {
          "output_type": "stream",
          "name": "stdout",
          "text": [
            "\u001b[1m1/1\u001b[0m \u001b[32m━━━━━━━━━━━━━━━━━━━━\u001b[0m\u001b[37m\u001b[0m \u001b[1m0s\u001b[0m 138ms/step\n"
          ]
        },
        {
          "output_type": "stream",
          "name": "stderr",
          "text": [
            "WARNING:tensorflow:6 out of the last 6 calls to <function TensorFlowTrainer.make_predict_function.<locals>.one_step_on_data_distributed at 0x79ff4dfca170> triggered tf.function retracing. Tracing is expensive and the excessive number of tracings could be due to (1) creating @tf.function repeatedly in a loop, (2) passing tensors with different shapes, (3) passing Python objects instead of tensors. For (1), please define your @tf.function outside of the loop. For (2), @tf.function has reduce_retracing=True option that can avoid unnecessary retracing. For (3), please refer to https://www.tensorflow.org/guide/function#controlling_retracing and https://www.tensorflow.org/api_docs/python/tf/function for  more details.\n"
          ]
        },
        {
          "output_type": "stream",
          "name": "stdout",
          "text": [
            "\u001b[1m1/1\u001b[0m \u001b[32m━━━━━━━━━━━━━━━━━━━━\u001b[0m\u001b[37m\u001b[0m \u001b[1m0s\u001b[0m 143ms/step\n",
            "Root Mean Squared Error (RMSE): 0.07567020403830879\n",
            "Previsão para o próximo mês: 0.7582\n"
          ]
        }
      ]
    },
    {
      "cell_type": "markdown",
      "source": [
        "O modelo para Colombia/Ecuador apresentou o menor RMSE (0.0757), indicando que, dentre os três países, esse modelo foi o mais preciso em capturar o padrão dos dados históricos e realizar previsões.\n",
        "\n",
        "Peru também apresentou um bom desempenho, com um RMSE de 0.1915, sugerindo que o modelo para esse país está fazendo previsões relativamente precisas.\n",
        "Brasil teve o maior RMSE (0.2265), o que indica que o modelo para este país é o menos preciso entre os três, embora ainda seja relativamente aceitável dependendo do contexto do problema.\n",
        "\n",
        "## Os valores previstos para o próximo mês são:\n",
        "\n",
        "* Brasil: 66.61%\n",
        "* Peru: 74.36%\n",
        "* Colombia/Ecuador: 75.82%\n",
        "\n",
        "Esses valores representam a previsão do modelo para o valor (*Value*. Que consiste na porcentagem na qual o pais ira bater a meta) em janeiro de 2024.\n",
        "Colombia/Ecuador tem a maior previsão (0.7582) ou 75.82% , seguido pelo Peru (0.7436) ou 74.36% e Brasil (0.6662) ou 66.61%.\n",
        "\n",
        "Como as previsões estão próximas dos valores médios observados nos dados de treino, isso sugere que os modelos estão fazendo previsões que seguem as tendências gerais dos dados históricos.\n"
      ],
      "metadata": {
        "id": "H35ntlWIEC3O"
      }
    },
    {
      "cell_type": "markdown",
      "source": [
        "\n",
        "\n",
        "---\n",
        "\n"
      ],
      "metadata": {
        "id": "1kov4nuTNvLh"
      }
    },
    {
      "cell_type": "markdown",
      "source": [
        "## Modelo Regressão Linear.\n"
      ],
      "metadata": {
        "id": "Gix7QGKr7RbJ"
      }
    },
    {
      "cell_type": "code",
      "source": [
        "def train_and_forecast_lr(data, target_col, date_col, forecast_date):\n",
        "\n",
        "    # Criar novas features\n",
        "    data['Mes'] = data[date_col].dt.month\n",
        "    data['Ano'] = data[date_col].dt.year\n",
        "\n",
        "    # Dividir os dados em treino e teste\n",
        "    train_size = int(len(data) * 0.8)\n",
        "    train_df = data[:train_size]\n",
        "    test_df = data[train_size:]\n",
        "\n",
        "    # Separar features e target\n",
        "    X_train = train_df[['Mes', 'Ano']]\n",
        "    y_train = train_df[target_col]\n",
        "    X_test = test_df[['Mes', 'Ano']]\n",
        "    y_test = test_df[target_col]\n",
        "\n",
        "    # Criar e treinar o modelo\n",
        "    model_lr = LinearRegression()\n",
        "    model_lr.fit(X_train, y_train)\n",
        "\n",
        "    # Fazer a previsão no conjunto de teste\n",
        "    y_pred = model_lr.predict(X_test)\n",
        "\n",
        "    # Calcular o RMSE\n",
        "    rmse = np.sqrt(mean_squared_error(y_test, y_pred))\n",
        "\n",
        "    # Fazer a previsão para a data especificada\n",
        "    forecast_df = pd.DataFrame({'Mes': [forecast_date.month], 'Ano': [forecast_date.year]})\n",
        "    forecast_value = model_lr.predict(forecast_df)\n",
        "\n",
        "    print(f'Root Mean Squared Error (RMSE) Regressão Linear: {rmse}')\n",
        "    print(f'Previsão Regressão Linear para {forecast_date}: {forecast_value[0]:.4f}')\n",
        "\n",
        "    return rmse, forecast_value[0]\n",
        "\n",
        "# Usando a função para vermos os dados dos paises dispostos no nosso Forecast original.\n",
        "forecast_date = pd.Timestamp('2024-01-01')\n",
        "\n",
        "print(\"Brasil:\")\n",
        "rmse_brasil, forecast_brasil = train_and_forecast_lr(df_brasil_RL, 'Value', 'Month/Year', forecast_date)\n",
        "\n",
        "print(\"\\nPeru:\")\n",
        "rmse_peru, forecast_peru = train_and_forecast_lr(df_peru_RL, 'Value', 'Month/Year', forecast_date)\n",
        "\n",
        "print(\"\\nColombia/Ecuador:\")\n",
        "rmse_colombia_ecuador, forecast_colombia_ecuador = train_and_forecast_lr(df_colombia_ecuador_RL, 'Value', 'Month/Year', forecast_date)\n"
      ],
      "metadata": {
        "colab": {
          "base_uri": "https://localhost:8080/"
        },
        "id": "YuZ1q766NjeL",
        "outputId": "aaf9c79d-5849-46b5-c9da-29fee2601e81"
      },
      "execution_count": 9,
      "outputs": [
        {
          "output_type": "stream",
          "name": "stdout",
          "text": [
            "Brasil:\n",
            "Root Mean Squared Error (RMSE): 0.013737524194859671\n",
            "Previsão para 2024-01-01 00:00:00: 0.7216\n",
            "\n",
            "Peru:\n",
            "Root Mean Squared Error (RMSE): 0.08972135149196127\n",
            "Previsão para 2024-01-01 00:00:00: 0.7329\n",
            "\n",
            "Colombia/Ecuador:\n",
            "Root Mean Squared Error (RMSE): 0.03424980428577501\n",
            "Previsão para 2024-01-01 00:00:00: 0.7652\n"
          ]
        }
      ]
    },
    {
      "cell_type": "markdown",
      "source": [
        "\n",
        "\n",
        "---\n",
        "\n"
      ],
      "metadata": {
        "id": "KvfGn2PkNgQu"
      }
    },
    {
      "cell_type": "markdown",
      "source": [
        "O RMSE mede a diferença entre os valores preditos e os valores reais observados. Quanto menor o RMSE, mais preciso é o modelo.\n",
        "\n",
        "* Brasil: RMSE = 0.0137\n",
        "* Peru: RMSE = 0.0897\n",
        "* Colombia/Ecuador: RMSE = 0.0342\n",
        "\n",
        "O modelo para o Brasil apresenta o menor RMSE (0.0137), indicando alta precisão na previsão de se o país atingirá a meta ou não.\n",
        "\n",
        "Colombia/Ecuador tem um RMSE moderadamente baixo (0.0342), sugerindo que o modelo é bastante preciso, mas não tanto quanto o do Brasil.\n",
        "\n",
        "Peru apresenta o maior RMSE (0.0897), o que sugere que o modelo para esse país tem uma maior margem de erro e pode ser menos confiável em comparação aos outros dois.\n",
        "\n",
        "\n",
        "Essas previsões representam a porcentagem esperada de metas atingidas em janeiro de 2024.\n",
        "\n",
        "* Brasil: 72.16%\n",
        "* Peru: 73.29%\n",
        "* Colombia/Ecuador: 76.52%"
      ],
      "metadata": {
        "id": "cvf6-AZ4Fku7"
      }
    },
    {
      "cell_type": "markdown",
      "source": [
        "## Modelo Decision Tree\n"
      ],
      "metadata": {
        "id": "XLYnkp0BC0Jy"
      }
    },
    {
      "cell_type": "code",
      "source": [
        "def train_and_forecast_dt(data, target_col, date_col, forecast_date):\n",
        "\n",
        "    # Converter a coluna 'Month/Year' para uma representação numérica\n",
        "    data[date_col] = data[date_col].apply(lambda x: x.toordinal())\n",
        "\n",
        "    # Dividir os dados em treino e teste\n",
        "    train_size = int(len(data) * 0.8)\n",
        "    train_df = data[:train_size]\n",
        "    test_df = data[train_size:]\n",
        "\n",
        "    # Preparar os dados\n",
        "    X_train = train_df[[date_col]]\n",
        "    y_train = train_df[target_col]\n",
        "    X_test = test_df[[date_col]]\n",
        "    y_test = test_df[target_col]\n",
        "\n",
        "    # Criar e treinar o modelo\n",
        "    model_dt = DecisionTreeRegressor(random_state=42)\n",
        "    model_dt.fit(X_train, y_train)\n",
        "\n",
        "    # Fazer a previsão no conjunto de teste\n",
        "    y_pred = model_dt.predict(X_test)\n",
        "\n",
        "    # Calcular o RMSE\n",
        "    rmse = np.sqrt(mean_squared_error(y_test, y_pred))\n",
        "\n",
        "    # Fazer a previsão para a data especificada\n",
        "    forecast_df = pd.DataFrame({date_col: [forecast_date.toordinal()]})\n",
        "    forecast_value = model_dt.predict(forecast_df)\n",
        "\n",
        "    print(f'Root Mean Squared Error (RMSE) Decision Tree: {rmse}')\n",
        "    print(f'Previsão Decision Tree para {forecast_date}: {forecast_value[0]:.4f}')\n",
        "\n",
        "    return rmse, forecast_value[0]\n",
        "\n",
        "# uso da função com os datasets dos países\n",
        "forecast_date = pd.Timestamp('2024-01-01')\n",
        "\n",
        "print(\"Brasil:\")\n",
        "rmse_brasil, forecast_brasil = train_and_forecast_dt(df_brasil_DT, 'Value', 'Month/Year', forecast_date)\n",
        "\n",
        "print(\"\\nPeru:\")\n",
        "rmse_peru, forecast_peru = train_and_forecast_dt(df_peru_DT, 'Value', 'Month/Year', forecast_date)\n",
        "\n",
        "print(\"\\nColombia/Ecuador:\")\n",
        "rmse_colombia_ecuador, forecast_colombia_ecuador = train_and_forecast_dt(df_colombia_ecuador_DT, 'Value', 'Month/Year', forecast_date)\n"
      ],
      "metadata": {
        "colab": {
          "base_uri": "https://localhost:8080/"
        },
        "id": "esL4obcUMoks",
        "outputId": "e3e834b5-4373-4e25-ef1a-4a363905807a"
      },
      "execution_count": 10,
      "outputs": [
        {
          "output_type": "stream",
          "name": "stdout",
          "text": [
            "Brasil:\n",
            "Root Mean Squared Error (RMSE): 0.03033150177620623\n",
            "Previsão para 2024-01-01 00:00:00: 0.7100\n",
            "\n",
            "Peru:\n",
            "Root Mean Squared Error (RMSE): 0.10459445491994303\n",
            "Previsão para 2024-01-01 00:00:00: 0.6700\n",
            "\n",
            "Colombia/Ecuador:\n",
            "Root Mean Squared Error (RMSE): 0.02144761058952724\n",
            "Previsão para 2024-01-01 00:00:00: 0.7400\n"
          ]
        }
      ]
    },
    {
      "cell_type": "markdown",
      "source": [
        "\n",
        "\n",
        "---\n",
        "\n"
      ],
      "metadata": {
        "id": "OsA44-kMHDjA"
      }
    },
    {
      "cell_type": "markdown",
      "source": [
        "O RMSE, que mede a precisão do modelo, continua sendo um indicador fundamental para avaliar a confiabilidade das previsões.\n",
        "\n",
        "* Brasil: RMSE = 0.0303\n",
        "* Peru: RMSE = 0.1046\n",
        "* Colombia/Ecuador: RMSE = 0.0214\n",
        "\n",
        "\n",
        "Colombia/Ecuador apresenta o menor RMSE (0.0214), indicando que o modelo para esse grupo de países é o mais preciso.\n",
        "\n",
        "Brasil também mostra um RMSE relativamente baixo (0.0303), sugerindo alta precisão na previsão para esse país, embora não tão alta quanto para Colombia/Ecuador.\n",
        "\n",
        "Peru tem o maior RMSE (0.1046), o que indica que o modelo para esse país é o menos preciso e, portanto, as previsões são menos confiáveis.\n",
        "\n",
        "\n",
        "As previsões indicam a porcentagem esperada de metas atingidas em janeiro de 2024.\n",
        "\n",
        "* Brasil: 71.00%\n",
        "* Peru: 67.00%\n",
        "* Colombia/Ecuador: 74.00%"
      ],
      "metadata": {
        "id": "zj0YyTTRHEQ6"
      }
    },
    {
      "cell_type": "markdown",
      "source": [
        "\n",
        "\n",
        "## Modelo Random Forest\n",
        "\n"
      ],
      "metadata": {
        "id": "WCCZ71P5JXGT"
      }
    },
    {
      "cell_type": "code",
      "source": [
        "def train_and_forecast_rf(data, target_col, date_col, forecast_date):\n",
        "\n",
        "    # Separar as features (X) e a target (y)\n",
        "    X = data[[date_col]]\n",
        "    y = data[target_col]\n",
        "\n",
        "    # Dividir os dados em treino e teste\n",
        "    train_size = int(len(X) * 0.8)\n",
        "    X_train, X_test = X[:train_size], X[train_size:]\n",
        "    y_train, y_test = y[:train_size], y[train_size:]\n",
        "\n",
        "    # Criar e treinar o modelo Random Forest\n",
        "    model_rf = RandomForestRegressor(n_estimators=100, random_state=42)\n",
        "    model_rf.fit(X_train, y_train)\n",
        "\n",
        "    # Fazer previsão no conjunto de teste\n",
        "    y_pred = model_rf.predict(X_test)\n",
        "\n",
        "    # Calcular o RMSE\n",
        "    rmse = np.sqrt(mean_squared_error(y_test, y_pred))\n",
        "\n",
        "    # Fazer previsão para a data especificada\n",
        "    forecast_df = pd.DataFrame({date_col: [forecast_date]})\n",
        "    forecast_value = model_rf.predict(forecast_df)\n",
        "\n",
        "    print(f'Root Mean Squared Error (RMSE) Random Forest: {rmse}')\n",
        "    print(f'Previsão Random Forest para {forecast_date}: {forecast_value[0]}')\n",
        "\n",
        "    return rmse, forecast_value[0]\n",
        "\n",
        "# uso da função com os datasets dos países\n",
        "forecast_date = pd.Timestamp('2024-01-01')\n",
        "\n",
        "print(\"Brasil:\")\n",
        "rmse_brasil, forecast_brasil = train_and_forecast_rf(df_brasil_RF, 'Value', 'Month/Year', forecast_date)\n",
        "\n",
        "print(\"\\nPeru:\")\n",
        "rmse_peru, forecast_peru = train_and_forecast_rf(df_peru_RF, 'Value', 'Month/Year', forecast_date)\n",
        "\n",
        "print(\"\\nColombia/Ecuador:\")\n",
        "rmse_colombia_ecuador, forecast_colombia_ecuador = train_and_forecast_rf(df_colombia_ecuador_RF, 'Value', 'Month/Year', forecast_date)\n"
      ],
      "metadata": {
        "colab": {
          "base_uri": "https://localhost:8080/"
        },
        "id": "vl1SxJi2Exwp",
        "outputId": "efe6345e-0726-444a-b85c-5cb3de06c08f"
      },
      "execution_count": 12,
      "outputs": [
        {
          "output_type": "stream",
          "name": "stdout",
          "text": [
            "Brasil:\n",
            "Root Mean Squared Error (RMSE) Random Forest: 0.033336016558671064\n",
            "Previsão Random Forest para 2024-01-01 00:00:00: 0.7063000000000001\n",
            "\n",
            "Peru:\n",
            "Root Mean Squared Error (RMSE) Random Forest: 0.12073922312156801\n",
            "Previsão Random Forest para 2024-01-01 00:00:00: 0.6494000000000011\n",
            "\n",
            "Colombia/Ecuador:\n",
            "Root Mean Squared Error (RMSE) Random Forest: 0.019241621553289085\n",
            "Previsão Random Forest para 2024-01-01 00:00:00: 0.7268000000000002\n"
          ]
        }
      ]
    },
    {
      "cell_type": "markdown",
      "source": [
        "\n",
        "\n",
        "---\n",
        "\n"
      ],
      "metadata": {
        "id": "uw1Vb4jqH-qA"
      }
    },
    {
      "cell_type": "markdown",
      "source": [
        "O RMSE é um indicador da precisão do modelo, com valores mais baixos indicando previsões mais precisas.\n",
        "\n",
        "* Brasil: RMSE = 0.0333\n",
        "* Peru: RMSE = 0.1207\n",
        "* Colombia/Ecuador: RMSE = 0.0192\n",
        "\n",
        "\n",
        "Colombia/Ecuador continua a ter o menor RMSE (0.0192), indicando que o modelo Random Forest é altamente preciso para esse grupo de países.\n",
        "\n",
        "Brasil tem um RMSE moderadamente baixo (0.0333), sugerindo que o modelo é preciso, mas com uma leve incerteza em comparação com Colombia/Ecuador.\n",
        "\n",
        "Peru apresenta o maior RMSE (0.1207), indicando que as previsões para esse país são as menos precisas entre os três, sugerindo uma maior incerteza na previsão.\n",
        "\n",
        "\n",
        "As previsões refletem a porcentagem esperada de metas atingidas em janeiro de 2024.\n",
        "\n",
        "* Brasil: 70.63%\n",
        "* Peru: 64.94%\n",
        "* Colombia/Ecuador: 72.68%"
      ],
      "metadata": {
        "id": "_wCcZHNpH_U8"
      }
    },
    {
      "cell_type": "markdown",
      "source": [
        "## Conclusões Finais"
      ],
      "metadata": {
        "id": "mPaIg8uNCePj"
      }
    },
    {
      "cell_type": "markdown",
      "source": [
        "Para decidir qual modelo deve ser utilizado na produção com base nos RMSEs apresentados para os três países (Brasil, Peru e Colombia/Ecuador), vamos analisar e comparar o desempenho de cada modelo.\n",
        "\n",
        "1. Modelo RNN\n",
        "* Brasil: RMSE = 0.2265\n",
        "* Peru: RMSE = 0.1915\n",
        "* Colombia/Ecuador: RMSE = 0.0757\n",
        "\n",
        "\n",
        "O modelo RNN apresenta o maior RMSE entre os modelos, especialmente para o Brasil e Peru. Isso indica que este modelo é menos preciso e, portanto, menos adequado para ser implementado em produção.\n",
        "\n",
        "2. Modelo de Regressão Linear\n",
        "* Brasil: RMSE = 0.0137\n",
        "* Peru: RMSE = 0.0897\n",
        "* Colombia/Ecuador: RMSE = 0.0342\n",
        "\n",
        "\n",
        "A Regressão Linear apresenta o menor RMSE para o Brasil, o que sugere que é o modelo mais preciso para esse país.\n",
        "Para Peru e Colombia/Ecuador, os RMSEs também são baixos, especialmente em comparação com o RNN e Decision Tree.\n",
        "A Regressão Linear oferece um bom equilíbrio entre os países, com um excelente desempenho no Brasil.\n",
        "\n",
        "3. Modelo Decision Tree\n",
        "* Brasil: RMSE = 0.0303\n",
        "* Peru: RMSE = 0.1046\n",
        "* Colombia/Ecuador: RMSE = 0.0214\n",
        "\n",
        "\n",
        "A Decision Tree apresenta um desempenho bom para Colombia/Ecuador, mas é menos precisa para o Brasil e Peru em comparação com a Regressão Linear.\n",
        "Embora seja competitiva, especialmente para Colombia/Ecuador, a Regressão Linear ainda supera a Decision Tree no geral.\n",
        "\n",
        "4. Modelo Random Forest\n",
        "* Brasil: RMSE = 0.0333\n",
        "* Peru: RMSE = 0.1207\n",
        "* Colombia/Ecuador: RMSE = 0.0192\n",
        "\n",
        "\n",
        "O Random Forest apresenta o menor RMSE para Colombia/Ecuador, indicando uma alta precisão para este país.\n",
        "No entanto, para o Brasil e Peru, o Random Forest é menos preciso em comparação com a Regressão Linear.\n",
        "Este modelo é excelente para Colombia/Ecuador, mas menos competitivo para os outros países.\n",
        "\n",
        "##**Conclusão**:\n",
        "\n",
        "Regressão Linear emerge como o modelo mais equilibrado e preciso entre os três países, especialmente destacando-se para o Brasil com o menor RMSE (0.0137).\n",
        "Random Forest é altamente preciso para Colombia/Ecuador, mas a Regressão Linear ainda apresenta um bom desempenho geral para todos os países, com o menor RMSE para o Brasil e resultados competitivos para os demais.\n",
        "\n",
        "## **Decisão**:\n",
        "\n",
        "O modelo de Regressão Linear é o mais indicado para ser utilizado em produção, pois oferece a melhor precisão geral para os três países, garantindo previsões mais consistentes e confiáveis em diferentes cenários."
      ],
      "metadata": {
        "id": "u8g60tdsCgZ3"
      }
    }
  ]
}